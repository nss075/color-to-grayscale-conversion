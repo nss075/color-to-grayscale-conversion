{
  "nbformat": 4,
  "nbformat_minor": 0,
  "metadata": {
    "colab": {
      "provenance": [],
      "authorship_tag": "ABX9TyNgDAb3W/O1Et7SDH/s6DKD",
      "include_colab_link": true
    },
    "kernelspec": {
      "name": "python3",
      "display_name": "Python 3"
    },
    "language_info": {
      "name": "python"
    }
  },
  "cells": [
    {
      "cell_type": "markdown",
      "metadata": {
        "id": "view-in-github",
        "colab_type": "text"
      },
      "source": [
        "<a href=\"https://colab.research.google.com/github/nss075/color-to-greyscale-conversion/blob/main/onversion_to_greyscale.ipynb\" target=\"_parent\"><img src=\"https://colab.research.google.com/assets/colab-badge.svg\" alt=\"Open In Colab\"/></a>"
      ]
    },
    {
      "cell_type": "code",
      "execution_count": 2,
      "metadata": {
        "id": "CqMWu2CmCwa-"
      },
      "outputs": [],
      "source": [
        "import zipfile\n",
        "\n",
        "# Path to the uploaded ZIP file\n",
        "zip_path = '/content/ezyzip.zip'\n",
        "\n",
        "# Destination path for extraction\n",
        "extract_path = '/content/folder'\n",
        "\n",
        "# Extract the contents of the ZIP file\n",
        "with zipfile.ZipFile(zip_path, 'r') as zip_ref:\n",
        "    zip_ref.extractall(extract_path)"
      ]
    },
    {
      "cell_type": "code",
      "source": [
        "import cv2\n",
        "import os\n",
        "\n",
        "# Path to the input folder containing colored images\n",
        "input_folder = '/content/folder'\n",
        "\n",
        "# Path to the output folder to save the grayscale images\n",
        "output_folder = '/content/grayscale_images'\n",
        "os.makedirs(output_folder, exist_ok=True)\n",
        "\n",
        "# Get the list of image files in the input folder\n",
        "image_files = [file for file in os.listdir(input_folder) if file.endswith('.jpg') or file.endswith('.png')]\n",
        "\n",
        "# Process each image file\n",
        "for image_file in image_files:\n",
        "    # Read the image\n",
        "    image_path = os.path.join(input_folder, image_file)\n",
        "    image = cv2.imread(image_path)\n",
        "\n",
        "    # Convert the image to grayscale\n",
        "    gray_image = cv2.cvtColor(image, cv2.COLOR_BGR2GRAY)\n",
        "\n",
        "    # Save the grayscale image\n",
        "    output_path = os.path.join(output_folder, image_file)\n",
        "    cv2.imwrite(output_path, gray_image)"
      ],
      "metadata": {
        "id": "-nHYmfZtC_wH"
      },
      "execution_count": 3,
      "outputs": []
    }
  ]
}